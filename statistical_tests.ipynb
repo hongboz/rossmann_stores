{
 "cells": [
  {
   "cell_type": "code",
   "execution_count": 29,
   "metadata": {},
   "outputs": [
    {
     "data": {
      "text/html": [
       "<div>\n",
       "<style scoped>\n",
       "    .dataframe tbody tr th:only-of-type {\n",
       "        vertical-align: middle;\n",
       "    }\n",
       "\n",
       "    .dataframe tbody tr th {\n",
       "        vertical-align: top;\n",
       "    }\n",
       "\n",
       "    .dataframe thead th {\n",
       "        text-align: right;\n",
       "    }\n",
       "</style>\n",
       "<table border=\"1\" class=\"dataframe\">\n",
       "  <thead>\n",
       "    <tr style=\"text-align: right;\">\n",
       "      <th></th>\n",
       "      <th>Store</th>\n",
       "      <th>DayOfWeek</th>\n",
       "      <th>Date</th>\n",
       "      <th>Sales</th>\n",
       "      <th>Customers</th>\n",
       "      <th>Open</th>\n",
       "      <th>Promo</th>\n",
       "      <th>StateHoliday</th>\n",
       "      <th>SchoolHoliday</th>\n",
       "      <th>StoreType</th>\n",
       "      <th>Assortment</th>\n",
       "      <th>CompetitionDistance</th>\n",
       "      <th>Month</th>\n",
       "      <th>Season</th>\n",
       "    </tr>\n",
       "  </thead>\n",
       "  <tbody>\n",
       "    <tr>\n",
       "      <th>0</th>\n",
       "      <td>1</td>\n",
       "      <td>5</td>\n",
       "      <td>2015-07-31</td>\n",
       "      <td>5263</td>\n",
       "      <td>555</td>\n",
       "      <td>1</td>\n",
       "      <td>1</td>\n",
       "      <td>d</td>\n",
       "      <td>1</td>\n",
       "      <td>c</td>\n",
       "      <td>a</td>\n",
       "      <td>1270</td>\n",
       "      <td>Jul</td>\n",
       "      <td>SUMMER</td>\n",
       "    </tr>\n",
       "    <tr>\n",
       "      <th>1</th>\n",
       "      <td>2</td>\n",
       "      <td>5</td>\n",
       "      <td>2015-07-31</td>\n",
       "      <td>6064</td>\n",
       "      <td>625</td>\n",
       "      <td>1</td>\n",
       "      <td>1</td>\n",
       "      <td>d</td>\n",
       "      <td>1</td>\n",
       "      <td>a</td>\n",
       "      <td>a</td>\n",
       "      <td>570</td>\n",
       "      <td>Jul</td>\n",
       "      <td>SUMMER</td>\n",
       "    </tr>\n",
       "    <tr>\n",
       "      <th>2</th>\n",
       "      <td>3</td>\n",
       "      <td>5</td>\n",
       "      <td>2015-07-31</td>\n",
       "      <td>8314</td>\n",
       "      <td>821</td>\n",
       "      <td>1</td>\n",
       "      <td>1</td>\n",
       "      <td>d</td>\n",
       "      <td>1</td>\n",
       "      <td>a</td>\n",
       "      <td>a</td>\n",
       "      <td>14130</td>\n",
       "      <td>Jul</td>\n",
       "      <td>SUMMER</td>\n",
       "    </tr>\n",
       "    <tr>\n",
       "      <th>3</th>\n",
       "      <td>4</td>\n",
       "      <td>5</td>\n",
       "      <td>2015-07-31</td>\n",
       "      <td>13995</td>\n",
       "      <td>1498</td>\n",
       "      <td>1</td>\n",
       "      <td>1</td>\n",
       "      <td>d</td>\n",
       "      <td>1</td>\n",
       "      <td>c</td>\n",
       "      <td>c</td>\n",
       "      <td>620</td>\n",
       "      <td>Jul</td>\n",
       "      <td>SUMMER</td>\n",
       "    </tr>\n",
       "    <tr>\n",
       "      <th>4</th>\n",
       "      <td>5</td>\n",
       "      <td>5</td>\n",
       "      <td>2015-07-31</td>\n",
       "      <td>4822</td>\n",
       "      <td>559</td>\n",
       "      <td>1</td>\n",
       "      <td>1</td>\n",
       "      <td>d</td>\n",
       "      <td>1</td>\n",
       "      <td>a</td>\n",
       "      <td>a</td>\n",
       "      <td>29910</td>\n",
       "      <td>Jul</td>\n",
       "      <td>SUMMER</td>\n",
       "    </tr>\n",
       "  </tbody>\n",
       "</table>\n",
       "</div>"
      ],
      "text/plain": [
       "   Store  DayOfWeek        Date  Sales  Customers  Open  Promo StateHoliday  \\\n",
       "0      1          5  2015-07-31   5263        555     1      1            d   \n",
       "1      2          5  2015-07-31   6064        625     1      1            d   \n",
       "2      3          5  2015-07-31   8314        821     1      1            d   \n",
       "3      4          5  2015-07-31  13995       1498     1      1            d   \n",
       "4      5          5  2015-07-31   4822        559     1      1            d   \n",
       "\n",
       "   SchoolHoliday StoreType Assortment  CompetitionDistance Month  Season  \n",
       "0              1         c          a                 1270   Jul  SUMMER  \n",
       "1              1         a          a                  570   Jul  SUMMER  \n",
       "2              1         a          a                14130   Jul  SUMMER  \n",
       "3              1         c          c                  620   Jul  SUMMER  \n",
       "4              1         a          a                29910   Jul  SUMMER  "
      ]
     },
     "execution_count": 29,
     "metadata": {},
     "output_type": "execute_result"
    }
   ],
   "source": [
    "import numpy as np\n",
    "import pandas as pd\n",
    "import matplotlib.pyplot as plt\n",
    "from scipy.stats import ttest_ind, f_oneway\n",
    "\n",
    "\n",
    "df = pd.read_csv(\"train_mod.csv\")\n",
    "\n",
    "df.head()"
   ]
  },
  {
   "cell_type": "code",
   "execution_count": 61,
   "metadata": {},
   "outputs": [
    {
     "data": {
      "text/plain": [
       "844392"
      ]
     },
     "execution_count": 61,
     "metadata": {},
     "output_type": "execute_result"
    }
   ],
   "source": [
    "# removing all the days where the stores were closed so the 0 sales do not affect our tests.\n",
    "df = df[df['Open'] == 1]\n",
    "len(df)"
   ]
  },
  {
   "cell_type": "markdown",
   "metadata": {},
   "source": [
    "### Testing the average daily sales between the days with promotions running and the days without.\n",
    "\n",
    "H_null: $\\mu_{promo}$ = $\\mu_{no\\_promo}$\n",
    "\n",
    "H_alt:  $\\mu_{promo}$ $\\neq$ $\\mu_{no\\_promo}$"
   ]
  },
  {
   "cell_type": "code",
   "execution_count": 57,
   "metadata": {},
   "outputs": [
    {
     "data": {
      "image/png": "[encoded data removed]",
      "text/plain": [
       "<Figure size 432x288 with 1 Axes>"
      ]
     },
     "metadata": {
      "needs_background": "light"
     },
     "output_type": "display_data"
    }
   ],
   "source": [
    "plt.hist(promo, bins = 20, range = (0,25000))\n",
    "plt.show()"
   ]
  },
  {
   "cell_type": "code",
   "execution_count": 58,
   "metadata": {},
   "outputs": [
    {
     "data": {
      "image/png": "[encoded data removed]",
      "text/plain": [
       "<Figure size 432x288 with 1 Axes>"
      ]
     },
     "metadata": {
      "needs_background": "light"
     },
     "output_type": "display_data"
    }
   ],
   "source": [
    "plt.hist(no_promo, bins = 20, range = (0,25000))\n",
    "plt.show()"
   ]
  },
  {
   "cell_type": "markdown",
   "metadata": {},
   "source": [
    "Just by looking at the distributions of both groups, we can see that the average of the promo group is higher than that of the no promo group. It seems that the average is around 7.5k for the promo group vs the 5k of the no promo group.\n",
    "\n",
    "However, to be sure, we should test this hypothesis statistically by running a two-tailed independent samples t-test."
   ]
  },
  {
   "cell_type": "code",
   "execution_count": 31,
   "metadata": {},
   "outputs": [
    {
     "data": {
      "text/plain": [
       "376896"
      ]
     },
     "execution_count": 31,
     "metadata": {},
     "output_type": "execute_result"
    }
   ],
   "source": [
    "promo = df.Sales[df['Promo'] == 1]\n",
    "len(promo)"
   ]
  },
  {
   "cell_type": "code",
   "execution_count": 59,
   "metadata": {},
   "outputs": [
    {
     "data": {
      "text/plain": [
       "629129"
      ]
     },
     "execution_count": 59,
     "metadata": {},
     "output_type": "execute_result"
    }
   ],
   "source": [
    "no_promo = df.Sales[df['Promo'] == 0]\n",
    "len(no_promo)"
   ]
  },
  {
   "cell_type": "code",
   "execution_count": 36,
   "metadata": {},
   "outputs": [
    {
     "name": "stdout",
     "output_type": "stream",
     "text": [
      "t-statistic = 363.8446754265649\n",
      "p-value = 0.0\n"
     ]
    }
   ],
   "source": [
    "t, p = ttest_ind(promo, no_promo, equal_var = True)\n",
    "\n",
    "print(\"t-statistic = \" + str(t))\n",
    "print(\"p-value = \" + str(p))"
   ]
  },
  {
   "cell_type": "code",
   "execution_count": 66,
   "metadata": {},
   "outputs": [
    {
     "name": "stdout",
     "output_type": "stream",
     "text": [
      "The average daily sales where the store ran a promotion is 8228.281239386994\n",
      "The average daily sales where the store didn't run a promotion is 4406.050805160786\n"
     ]
    }
   ],
   "source": [
    "print(\"The average daily sales where the store ran a promotion is \" + str(np.mean(promo)))\n",
    "print(\"The average daily sales where the store didn't run a promotion is \" + str(np.mean(no_promo)))"
   ]
  },
  {
   "cell_type": "markdown",
   "metadata": {},
   "source": [
    "**Note: p-value is 0.0 because it is too small to display, we can be sure that it is smaller than even 0.01**\n",
    "\n",
    "Since the p-value is much less than 0.05, we reject the null hypothesis that the promo and no promo groups have the same average daily sales. More specifically, we see that on average the days where the stores ran a promotion made $4000 more than the days where they didn't run a promotion."
   ]
  },
  {
   "cell_type": "markdown",
   "metadata": {},
   "source": [
    "### Testing the average daily sales between the different store assortments using an one-way anova test\n",
    "\n",
    "H_null: $\\mu_{a}$ = $\\mu_{b}$ = $\\mu_{c}$\n",
    "\n",
    "H_alt:  At least one of the average sales is different from the others"
   ]
  },
  {
   "cell_type": "code",
   "execution_count": 49,
   "metadata": {},
   "outputs": [],
   "source": [
    "assortment_a = df.Sales[df['Assortment'] == 'a']\n",
    "assortment_b = df.Sales[df['Assortment'] == 'b']\n",
    "assortment_c = df.Sales[df['Assortment'] == 'c']"
   ]
  },
  {
   "cell_type": "code",
   "execution_count": 71,
   "metadata": {},
   "outputs": [
    {
     "name": "stdout",
     "output_type": "stream",
     "text": [
      "f-statistic = 5057.065754982005\n",
      "p-value = 0.0\n",
      "The average daily sales of stores with assortment a is 5481.026095693513\n",
      "The average daily sales of stores with assortment b is 8553.931999035447\n",
      "The average daily sales of stores with assortment c is 6058.676566907757\n"
     ]
    }
   ],
   "source": [
    "f_stat, p_val = f_oneway(assortment_a, assortment_b, assortment_c)\n",
    "\n",
    "print(\"f-statistic = \" + str(f_stat))\n",
    "print(\"p-value = \" + str(p_val))"
   ]
  },
  {
   "cell_type": "markdown",
   "metadata": {},
   "source": [
    "Since the p-value is much less than 0.05, we reject the null hypothesis that the average daily sales of stores with different assortments are the same. More over, we see that:"
   ]
  },
  {
   "cell_type": "code",
   "execution_count": 72,
   "metadata": {},
   "outputs": [
    {
     "name": "stdout",
     "output_type": "stream",
     "text": [
      "The average daily sales of stores with assortment a is 5481.026095693513\n",
      "The average daily sales of stores with assortment b is 8553.931999035447\n",
      "The average daily sales of stores with assortment c is 6058.676566907757\n"
     ]
    }
   ],
   "source": [
    "print(\"The average daily sales of stores with assortment a is \" + str(np.mean(assortment_a)))\n",
    "print(\"The average daily sales of stores with assortment b is \" + str(np.mean(assortment_b)))\n",
    "print(\"The average daily sales of stores with assortment c is \" + str(np.mean(assortment_c)))"
   ]
  },
  {
   "cell_type": "markdown",
   "metadata": {},
   "source": [
    "### Testing the average daily sales between the different store types using an one-way anova test\n",
    "\n",
    "H_null: $\\mu_{a}$ = $\\mu_{b}$ = $\\mu_{c}$ = $\\mu_{d}$\n",
    "\n",
    "H_alt:  At least one of the average sales is different from the others"
   ]
  },
  {
   "cell_type": "code",
   "execution_count": 55,
   "metadata": {},
   "outputs": [
    {
     "name": "stdout",
     "output_type": "stream",
     "text": [
      "f-statistic = 6817.192011836288\n",
      "p-value = 0.0\n"
     ]
    }
   ],
   "source": [
    "type_a = df.Sales[df['StoreType'] == 'a']\n",
    "type_b = df.Sales[df['StoreType'] == 'b']\n",
    "type_c = df.Sales[df['StoreType'] == 'c']\n",
    "type_d = df.Sales[df['StoreType'] == 'd']\n",
    "\n",
    "f_stat, p_val = f_oneway(type_a, type_b, type_c, type_d)\n",
    "\n",
    "print(\"f-statistic = \" + str(f_stat))\n",
    "print(\"p-value = \" + str(p_val))"
   ]
  },
  {
   "cell_type": "markdown",
   "metadata": {},
   "source": [
    "Since the p-value is much less than 0.05, we reject the null hypothesis that the average daily sales of sdifferent types of stores are the same. More over, we see that:"
   ]
  },
  {
   "cell_type": "code",
   "execution_count": 73,
   "metadata": {},
   "outputs": [
    {
     "name": "stdout",
     "output_type": "stream",
     "text": [
      "The average daily sales of type a stores is 5738.179710202728\n",
      "The average daily sales of type b stores is 10058.837334175616\n",
      "The average daily sales of type c stores is 5723.6292458345515\n",
      "The average daily sales of type d stores is 5641.819243109884\n"
     ]
    }
   ],
   "source": [
    "print(\"The average daily sales of type a stores is \" + str(np.mean(type_a)))\n",
    "print(\"The average daily sales of type b stores is \" + str(np.mean(type_b)))\n",
    "print(\"The average daily sales of type c stores is \" + str(np.mean(type_c)))\n",
    "print(\"The average daily sales of type d stores is \" + str(np.mean(type_d)))"
   ]
  },
  {
   "cell_type": "code",
   "execution_count": null,
   "metadata": {},
   "outputs": [],
   "source": []
  }
 ],
 "metadata": {
  "kernelspec": {
   "display_name": "Python 3",
   "language": "python",
   "name": "python3"
  },
  "language_info": {
   "codemirror_mode": {
    "name": "ipython",
    "version": 3
   },
   "file_extension": ".py",
   "mimetype": "text/x-python",
   "name": "python",
   "nbconvert_exporter": "python",
   "pygments_lexer": "ipython3",
   "version": "3.7.7"
  }
 },
 "nbformat": 4,
 "nbformat_minor": 4
}
